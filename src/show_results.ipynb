{
 "cells": [
  {
   "cell_type": "code",
   "execution_count": null,
   "metadata": {},
   "outputs": [],
   "source": []
  },
  {
   "attachments": {},
   "cell_type": "markdown",
   "metadata": {},
   "source": [
    "# Inports"
   ]
  },
  {
   "cell_type": "code",
   "execution_count": 2,
   "metadata": {},
   "outputs": [
    {
     "name": "stderr",
     "output_type": "stream",
     "text": [
      "/Users/gadmohamed/miniforge3/envs/fl/lib/python3.9/site-packages/scipy/__init__.py:146: UserWarning: A NumPy version >=1.16.5 and <1.23.0 is required for this version of SciPy (detected version 1.25.0\n",
      "  warnings.warn(f\"A NumPy version >={np_minversion} and <{np_maxversion}\"\n"
     ]
    }
   ],
   "source": [
    "import numpy as np\n",
    "from numpy.random import seed\n",
    "import pandas as pd\n",
    "\n",
    "from absl import app\n",
    "from absl import flags\n",
    "import os \n",
    "from os.path import join\n",
    "import tensorflow as tf\n",
    "from tensorflow.keras import layers\n",
    "from tensorflow.keras.models import load_model\n",
    "\n",
    "from sklearn.model_selection import train_test_split\n",
    "from sklearn.metrics import classification_report\n",
    "\n",
    "from utils import *\n",
    "# from mia.estimators import ShadowModelBundle, AttackModelBundle, prepare_attack_data"
   ]
  },
  {
   "attachments": {},
   "cell_type": "markdown",
   "metadata": {},
   "source": [
    "# Functions\n",
    "\n"
   ]
  },
  {
   "cell_type": "code",
   "execution_count": 32,
   "metadata": {},
   "outputs": [],
   "source": [
    "\n",
    "\n",
    "\n",
    "class Exp : \n",
    "\n",
    "    def __init__(self, exp_path) :\n",
    "        self.exp_path = exp_path\n",
    "        self.corrupt = self.check_corrupt()\n",
    "        if not self.corrupt :\n",
    "            self.args = load_json_field(join(exp_path, 'args.json'))\n",
    "            self.load_history()\n",
    "    \n",
    "    def check_corrupt(self) :\n",
    "        if not os.path.exists(join(self.exp_path, 'args.json')) : \n",
    "            return True \n",
    "        files = os.listdir(self.exp_path)\n",
    "        for file in files : \n",
    "            if file.endswith('.csv') or file.endswith('.npy') :\n",
    "                return False\n",
    "        return True\n",
    "\n",
    "    def load_history(self) :\n",
    "        if self.args['learning_algorithm'] == 'central' : \n",
    "            if not os.path.exists(join(self.exp_path, 'centralized.csv')) :\n",
    "                self.corrupt = True \n",
    "                return\n",
    "            history = pd.read_csv(join(self.exp_path, 'centralized.csv'))\n",
    "            self.acc = history['val_accuracy']\n",
    "            self.loss = history['val_loss']\n",
    "        elif self.args['learning_algorithm'] == 'local' :\n",
    "            if not os.path.exists(join(self.exp_path, 'client_0.csv')) :\n",
    "                self.corrupt = True \n",
    "                return\n",
    "            client_files = [f for f in os.listdir(self.exp_path) if (f.startswith('client') and f.endswith('.csv'))]\n",
    "            histories = [pd.read_csv(join(self.exp_path, f)) for f in client_files]\n",
    "            self.accs = [h['val_accuracy'] for h in histories]\n",
    "            self.losses = [h['val_loss'] for h in histories]\n",
    "            self.acc = np.mean(self.accs, axis=0)\n",
    "            self.loss = np.mean(self.losses, axis=0)\n",
    "\n",
    "        elif self.args['learning_algorithm'].startswith('fed') : \n",
    "            if not os.path.exists(join(self.exp_path, 'accuracy.npy')) :\n",
    "                self.corrupt = True \n",
    "                return\n",
    "            \n",
    "            self.acc = np.load(join(self.exp_path, 'accuracy.npy'))\n",
    "            self.loss = np.load(join(self.exp_path, 'loss.npy'))\n",
    "\n",
    "    \n",
    "    def plot(self, metric='acc', labels=None) :\n",
    "        \n",
    "        if labels is not None : \n",
    "            mylabels = '_'.join([str(self.args[k]) for k in labels])\n",
    "        else :\n",
    "            mylabels = ''\n",
    "        \n",
    "        if metric == 'acc' : \n",
    "            plt.plot(self.acc, label=mylabels)\n",
    "        elif metric == 'loss' : \n",
    "            plt.plot(self.loss, label=mylabels)\n",
    "        else : \n",
    "            raise ValueError('Invalid metric')\n",
    "\n",
    "        plt.legend()\n",
    "\n",
    "\n",
    "\n",
    "\n",
    "class ExpSet : \n",
    "\n",
    "    def __init__(self, exps) :\n",
    "        self.exps = exps\n",
    "    \n",
    "    def plot(self, metric='acc', labels=None, filter = None) :\n",
    "        exps = self.exps\n",
    "        if filter is not None :\n",
    "            for k, v in filter.items() : \n",
    "                exps = [exp for exp in exps if exp.args[k] == v]\n",
    "            \n",
    "        mylabels = ['' ] * len(exps)\n",
    "        if labels is not None : \n",
    "            for i, exp in enumerate(exps) : \n",
    "                mylabels[i] = '_'.join([str(exp.args[k]) for k in labels])\n",
    "        \n",
    "        ys = []\n",
    "        for exp in exps :\n",
    "            if metric == 'acc' : \n",
    "                ys.append(exp.acc)\n",
    "            elif metric == 'loss' : \n",
    "                ys.append(exp.loss)\n",
    "            else : \n",
    "                raise ValueError('Invalid metric')\n",
    "        \n",
    "        for i, y in enumerate(ys) :\n",
    "            plt.plot(y, label=mylabels[i])\n",
    "\n",
    "        plt.legend(prop={'size': 13}, bbox_to_anchor=(1.05, 1), loc='upper left', borderaxespad=0.2)\n",
    "        \n"
   ]
  },
  {
   "attachments": {},
   "cell_type": "markdown",
   "metadata": {},
   "source": [
    "# Central performance"
   ]
  },
  {
   "cell_type": "code",
   "execution_count": null,
   "metadata": {},
   "outputs": [],
   "source": [
    "experiment_id = 'algorithm' + '_' + 'central' + '_'\n",
    "experiment_paths = [join(RESULTS_PATH, exp_name) for exp_name in os.listdir(RESULTS_PATH) if experiment_id in exp_name]\n",
    "print(experiment_paths)\n",
    "for exp_path in experiment_paths :\n",
    "    \n",
    "    history = pd.read_csv(join(exp_path, 'centralized.csv'))\n",
    "    central_acc = history['val_accuracy']\n",
    "\n",
    "\n",
    "    plt.plot(central_acc)"
   ]
  },
  {
   "attachments": {},
   "cell_type": "markdown",
   "metadata": {},
   "source": [
    "# Local performance"
   ]
  },
  {
   "cell_type": "code",
   "execution_count": null,
   "metadata": {},
   "outputs": [],
   "source": [
    "experiment_paths = [join(RESULTS_PATH, exp_name) for exp_name in os.listdir(RESULTS_PATH)]\n",
    "idx_to_remove = [i for i in range(len(experiment_paths)) if not os.path.isdir(experiment_paths[i])]\n",
    "for i in idx_to_remove :\n",
    "    experiment_paths.pop(i)\n",
    "\n",
    "local_dp, local_nondp = [], []\n",
    "for p in experiment_paths :\n",
    "    exp = Exp(p) \n",
    "    if exp.corrupt :\n",
    "        continue\n",
    "    if exp.args['dataset'] == 'cifar10' and exp.args['learning_algorithm'] == 'local' \\\n",
    "        and exp.args['lr'] == 0.001 and exp.args['use_dp'] == True:\n",
    "        if exp.args['use_dp'] : \n",
    "            local_dp.append(exp)\n",
    "        else :\n",
    "            local_nondp.append(exp)\n"
   ]
  },
  {
   "attachments": {},
   "cell_type": "markdown",
   "metadata": {},
   "source": [
    "# Federated Learning performance"
   ]
  },
  {
   "attachments": {},
   "cell_type": "markdown",
   "metadata": {},
   "source": [
    "## FedAvg"
   ]
  },
  {
   "cell_type": "code",
   "execution_count": null,
   "metadata": {},
   "outputs": [],
   "source": [
    "\n",
    "experiment_id = 'fedavg'\n",
    "experiment_paths = [join(RESULTS_PATH, exp_name) for exp_name in os.listdir(RESULTS_PATH) if experiment_id in exp_name]\n",
    "\n",
    "\n",
    "\n",
    "for p in experiment_paths :\n",
    "    things = p.split('/')[-1].split('_')\n",
    "    \n",
    "    if not os.path.exists(join(p, 'accuracy.npy')): \n",
    "        continue \n",
    "    \n",
    "    use_dp =  load_json_field(join(p, 'args.json'), 'use_dp')\n",
    "    eps = load_json_field(join(p, 'args.json'), 'dp_epsilon')\n",
    "    alg = load_json_field(join(p, 'args.json'), 'learning_algorithm')\n",
    "    acc = np.load(join(p, 'accuracy.npy'))\n",
    "    plt.plot(acc, label=alg + '_' + str(use_dp) + '_' + str(eps))\n",
    "\n",
    "plt.legend()\n",
    "plt.show()\n"
   ]
  },
  {
   "attachments": {},
   "cell_type": "markdown",
   "metadata": {},
   "source": [
    "## Fedsgd"
   ]
  },
  {
   "cell_type": "code",
   "execution_count": null,
   "metadata": {},
   "outputs": [],
   "source": [
    "\n",
    "experiment_id = 'cifar10' + '_' + 'fedsgd' + '_'\n",
    "experiment_path = [join(RESULTS_PATH, exp_name) for exp_name in os.listdir(RESULTS_PATH) if experiment_id in exp_name][0]\n",
    "print(\"experiment path:\", experiment_path)\n",
    "\n",
    "fedsgd_acc = np.load(join(experiment_path, 'accuracy.npy'))\n",
    "# plot accuracy\n",
    "plt.plot(fedsgd_acc)"
   ]
  },
  {
   "cell_type": "code",
   "execution_count": null,
   "metadata": {},
   "outputs": [],
   "source": [
    "\n",
    "experiment_id = 'cifar10' + '_' + 'fedakd' + '_'\n",
    "experiment_path = [join(RESULTS_PATH, exp_name) for exp_name in os.listdir(RESULTS_PATH) if experiment_id in exp_name][0]\n",
    "print(\"experiment path:\", experiment_path)\n",
    "\n",
    "fedsgd_acc = np.load(join(experiment_path, 'accuracy.npy'))\n",
    "# plot accuracy\n",
    "plt.plot(fedsgd_acc)"
   ]
  },
  {
   "attachments": {},
   "cell_type": "markdown",
   "metadata": {},
   "source": [
    "## Compare performance"
   ]
  },
  {
   "cell_type": "code",
   "execution_count": 64,
   "metadata": {},
   "outputs": [
    {
     "name": "stdout",
     "output_type": "stream",
     "text": [
      "adv_cmp\n",
      "[0.1, 1.0, 10.0, 100.0, 1000.0, 2000.0]\n",
      "rdp\n",
      "[0.1, 1.0, 10.0, 100.0, 1000.0, 2000.0]\n",
      "dp\n",
      "[0.1, 1.0, 10.0, 100.0, 1000.0, 2000.0]\n"
     ]
    },
    {
     "data": {
      "image/png": "[encoded data removed]",
      "text/plain": [
       "<Figure size 1000x600 with 1 Axes>"
      ]
     },
     "metadata": {},
     "output_type": "display_data"
    }
   ],
   "source": [
    "experiment_paths = [join(RESULTS_PATH, exp_name) for exp_name in os.listdir(RESULTS_PATH)]\n",
    "idx_to_remove = [i for i in range(len(experiment_paths)) if not os.path.isdir(experiment_paths[i])]\n",
    "for i in idx_to_remove :\n",
    "    experiment_paths.pop(i)\n",
    "\n",
    "local_dp, local_nondp = [], []\n",
    "for p in experiment_paths :\n",
    "    exp = Exp(p) \n",
    "    if exp.corrupt :\n",
    "        continue\n",
    "    if exp.args['dataset'] == 'cifar10' and exp.args['learning_algorithm'] == 'local' and exp.args['lr'] == 0.01 :\n",
    "        if exp.args['use_dp'] : \n",
    "            local_dp.append(exp)\n",
    "        else :\n",
    "            local_nondp.append(exp)\n",
    "\n",
    "dp_types_exps = dict() \n",
    "for exp in local_dp :\n",
    "    if exp.args['dp_type'] not in dp_types_exps : \n",
    "        dp_types_exps[exp.args['dp_type']] = []\n",
    "    dp_types_exps[exp.args['dp_type']].append(exp)\n",
    "for k, v in dp_types_exps.items() :\n",
    "    # sort by epsilon\n",
    "    v.sort(key=lambda x: x.args['dp_epsilon'])\n",
    "    print(k) \n",
    "    print([e.args['dp_epsilon'] for e in v]) \n",
    "\n",
    "\n",
    "\n",
    "epsilon_values = sorted(list(set(exp.args['dp_epsilon'] for exp_list in dp_types_exps.values() for exp in exp_list)))\n",
    "group_labels = list(dp_types_exps.keys())\n",
    "dp_types_to_labels = {'rdp': 'RDP', 'adv_cmp':'AC', 'dp': 'NC'}\n",
    "num_epsilon_values = len(epsilon_values)\n",
    "num_groups = len(dp_types_exps)\n",
    "\n",
    "bar_width = 0.2\n",
    "index = np.arange(num_epsilon_values)\n",
    "\n",
    "fig, ax = plt.subplots(figsize=(10, 6))\n",
    "colors = ['r', 'g', 'b']\n",
    "\n",
    "for i, dp_type in enumerate(group_labels):\n",
    "    exp_list = dp_types_exps[dp_type]\n",
    "    acc_values = [exp.acc[-1] for exp in exp_list]\n",
    "\n",
    "    bar_positions = index + (i - num_groups // 2 + 0.5) * bar_width\n",
    "    ax.bar(bar_positions, acc_values, width=bar_width, align='center', label=dp_types_to_labels[dp_type], color=colors[i])\n",
    "\n",
    "# draw horizontal lines\n",
    "ax.axhline(y=np.mean([e.acc[-1] for e in local_nondp]), color='k', linestyle='--', label='NON-DP')\n",
    "\n",
    "ax.set_xlabel('Epsilon')\n",
    "ax.set_ylabel('Accuracy')\n",
    "ax.set_title('Accuracy by DP Type and Epsilon')\n",
    "ax.set_xticks(index)\n",
    "ax.set_xticklabels(epsilon_values)\n",
    "ax.legend()\n",
    "\n",
    "plt.tight_layout()\n",
    "plt.show()\n"
   ]
  },
  {
   "attachments": {},
   "cell_type": "markdown",
   "metadata": {},
   "source": [
    "# DP relaxations noise vs epsilon"
   ]
  },
  {
   "cell_type": "markdown",
   "metadata": {},
   "source": [
    "### 1"
   ]
  },
  {
   "cell_type": "code",
   "execution_count": null,
   "metadata": {},
   "outputs": [],
   "source": [
    "n = 60_000 \n",
    "bs = 200\n",
    "e = 20 \n",
    "delta = 1e-5\n",
    "dp_types = ['dp', 'adv_cmp', 'rdp'] \n",
    "\n",
    "epsilons_range = np.arange(1, 1000, 5)\n",
    "\n",
    "noise_multipliers = np.zeros((len(dp_types), len(epsilons_range)))\n",
    "for dp_i, dp_type in enumerate(dp_types) : \n",
    "    for eps_i, eps in enumerate(epsilons_range) : \n",
    "        ac = DPAccountant(\n",
    "            data_size= n,\n",
    "            batch_size= bs, \n",
    "            epochs = e,\n",
    "            target_delta = delta, \n",
    "            dp_type = dp_type\n",
    "        )\n",
    "        sigma = ac.get_noise_multiplier(target_epsilon=eps)\n",
    "        noise_multipliers[dp_i, eps_i] = sigma\n",
    "\n",
    "for dp_i, dp_type in enumerate(dp_types) : \n",
    "    plt.plot(epsilons_range[:20], noise_multipliers[dp_i, :20], label=dp_type)\n",
    "plt.legend()\n"
   ]
  },
  {
   "cell_type": "code",
   "execution_count": 4,
   "metadata": {},
   "outputs": [
    {
     "data": {
      "text/plain": [
       "<matplotlib.legend.Legend at 0x148113e80>"
      ]
     },
     "execution_count": 4,
     "metadata": {},
     "output_type": "execute_result"
    },
    {
     "data": {
      "image/png": "[encoded data removed]",
      "text/plain": [
       "<Figure size 640x480 with 1 Axes>"
      ]
     },
     "metadata": {},
     "output_type": "display_data"
    }
   ],
   "source": []
  },
  {
   "cell_type": "markdown",
   "metadata": {},
   "source": [
    "### 2"
   ]
  },
  {
   "cell_type": "code",
   "execution_count": 51,
   "metadata": {},
   "outputs": [
    {
     "name": "stdout",
     "output_type": "stream",
     "text": [
      "NC\n",
      "(0.1, 1.0, 10.0, 100.0, 1000.0, 2000.0)\n",
      "(48.44805262605389, 4.844805262605389, 0.4844805262605389, 0.04844805262605389, 0.004844805262605389, 0.0024224026313026943)\n",
      "\n",
      "AC\n",
      "(0.1, 1.0, 10.0, 100.0, 1000.0, 2000.0)\n",
      "(247.34778138229277, 25.605116690792524, 3.232454373215927, 0.6367427254900667, 0.17046309798703502, 0.11781493603567814)\n",
      "\n",
      "RDP\n",
      "(0.1, 1.0, 10.0, 100.0, 1000.0, 2000.0)\n",
      "(9.21875, 1.650390625, 0.5712890625, 0.2020263671875, 0.09246826171875, 0.067901611328125)\n",
      "\n"
     ]
    },
    {
     "data": {
      "image/png": "[encoded data removed]",
      "text/plain": [
       "<Figure size 900x900 with 1 Axes>"
      ]
     },
     "metadata": {},
     "output_type": "display_data"
    }
   ],
   "source": [
    "experiment_paths = [join(RESULTS_PATH, exp_name) for exp_name in os.listdir(RESULTS_PATH)]\n",
    "idx_to_remove = [i for i in range(len(experiment_paths)) if not os.path.isdir(experiment_paths[i])]\n",
    "for i in idx_to_remove :\n",
    "    experiment_paths.pop(i)\n",
    "\n",
    "fav_exps = []\n",
    "for p in experiment_paths :\n",
    "    exp = Exp(p) \n",
    "    if exp.corrupt :\n",
    "        continue\n",
    "    if exp.args['dataset'] == 'cifar10' and exp.args['learning_algorithm'] == 'local' and exp.args['lr'] == 0.001 and exp.args['use_dp'] == True :\n",
    "        fav_exps.append(exp)\n",
    "\n",
    "dp_types = [\"dp\", \"adv_cmp\", \"rdp\"]\n",
    "labels = ['NC', 'AC', 'RDP']\n",
    "markers = ['o', 'x', 's']\n",
    "\n",
    "fig, ax = plt.subplots(figsize=(9, 9), facecolor='lightskyblue')\n",
    "fig.suptitle('Figure')\n",
    "\n",
    "ax.set_title('Axes', loc='left', fontstyle='oblique', fontsize='medium')\n",
    "\n",
    "for i, dp_type in enumerate(dp_types):\n",
    "    expss = [exp for exp in fav_exps if exp.args['dp_type'] == dp_type]\n",
    "    xs, ys = [exp.args['dp_epsilon'] for exp in expss], [exp.args['sigma'] for exp in expss]\n",
    "    xs, ys = zip(*sorted(zip(xs, ys), key=lambda x: x[0]))\n",
    "\n",
    "    ax.plot(xs, ys, marker=markers[i], label=labels[i])\n",
    "\n",
    "ax.set_xlabel('DP Epsilon')\n",
    "ax.set_ylabel('Sigma')\n",
    "\n",
    "ax.legend()\n",
    "\n",
    "# Set the x-axis tick labels to the values in xs\n",
    "ax.set_xticks(xs)\n",
    "\n",
    "# Set the x-axis to log scale\n",
    "ax.set_xscale('log')\n",
    "\n",
    "plt.tight_layout()\n",
    "plt.show()"
   ]
  },
  {
   "attachments": {},
   "cell_type": "markdown",
   "metadata": {},
   "source": [
    "## MIA results"
   ]
  },
  {
   "cell_type": "code",
   "execution_count": null,
   "metadata": {},
   "outputs": [],
   "source": [
    "id = 12\n",
    "exp_id = 'exp_{}'.format(id)\n",
    "EXP_PATH = join(DATA_PATH, exp_id)\n",
    "attack_results_file = join(EXP_PATH, 'attack_results', 'attack_results.npy')\n",
    "attack_results = np.load(attack_results_file, allow_pickle= True).item()  \n",
    "\n",
    "fpr, tpr, thresholds = attack_results['fpr'], attack_results['tpr'], attack_results['thresholds']\n",
    "plt.plot(fpr, tpr)\n",
    "plt.xlabel('False Positive Rate')\n",
    "plt.ylabel('True Positive Rate')\n",
    "plt.title('ROC Curve')\n",
    "plt.show()\n",
    "\n",
    "print(\"fpr:\", fpr)\n",
    "print(\"tpr:\", tpr)\n",
    "print(\"thresholds:\", thresholds)"
   ]
  }
 ],
 "metadata": {
  "kernelspec": {
   "display_name": "Python 3",
   "language": "python",
   "name": "python3"
  },
  "language_info": {
   "codemirror_mode": {
    "name": "ipython",
    "version": 3
   },
   "file_extension": ".py",
   "mimetype": "text/x-python",
   "name": "python",
   "nbconvert_exporter": "python",
   "pygments_lexer": "ipython3",
   "version": "3.9.13"
  },
  "orig_nbformat": 4
 },
 "nbformat": 4,
 "nbformat_minor": 2
}
